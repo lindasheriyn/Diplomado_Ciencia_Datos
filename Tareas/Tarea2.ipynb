{
 "cells": [
  {
   "cell_type": "markdown",
   "id": "1e20a5d0-4b48-44bb-b197-9a3fbcb7dde9",
   "metadata": {},
   "source": [
    "<figure>\n",
    "<img src=\"../Tareas/Imagenes/logo.png\"  width=\"80\" height=\"80\" align=\"left\"/> \n",
    "</figure>\n",
    "\n",
    "# <span style=\"color:blue\"><left>Aprendizaje Profundo</left></span>"
   ]
  },
  {
   "cell_type": "markdown",
   "id": "cf18ce82-95f2-486d-b362-0f641d5c350d",
   "metadata": {},
   "source": [
    "# <span style=\"color:red\"><center>Diferencia entre Analítica de Datos y Ciencia de Datos</center></span>"
   ]
  },
{
   "cell_type": "markdown",
   "id": "cf18ce82-95f2-486d-b362-0f641d5c350d",
   "metadata": {},
   "source": [
    "[![Open In Colab](https://colab.research.google.com/assets/colab-badge.svg)](https://colab.research.google.com/github/lindasheriyn/Diplomado_Ciencia_Datos/blob/master/Tareas/Tarea2.ipynb)"
   ]
  },
  {
   "cell_type": "markdown",
   "id": "b5f196cd-4ae8-451d-a5b0-6b8ce39d515e",
   "metadata": {},
   "source": [
    "## <span style=\"color:#4361EE\">Autor</span>"
   ]
  },
  {
   "cell_type": "markdown",
   "id": "f95720b1-9e21-4a16-b82a-e73ba6273cef",
   "metadata": {},
   "source": [
    "<div style=\"display: flex; align-items: center;\">\n",
    "  <figure>\n",
    "<img src=\"../Tareas/Imagenes/foto.png\"  width=\"350\" height=\"400\" align=\"left\" /> \n",
    "</figure>\n",
    "  <div style=\"margin-left: 20px;\">\n",
    "    <h2>Linda Rodríguez</h2>\n",
    "    <p>**Profesión:** Ingeniera de Datos<br>\n",
    "    **Ubicación:**  Bogotá</p>\n",
    "    <p>Apasionada ingeniera de datos con un enfoque creativo en la resolución de problemas y la creación de soluciones eficientes. Con una sólida formación en ciencias de la computación y análisis de datos, Ana combina habilidades técnicas avanzadas con una comprensión profunda de las necesidades empresariales. Siempre en busca de formas innovadoras de extraer, transformar y cargar datos para generar información valiosa y facilitar la toma de decisiones informadas. Experta en diseñar arquitecturas de pipelines de datos escalables y en implementar soluciones de almacenamiento seguro. Motivada por el desafío de manejar conjuntos de datos complejos y convertirlos en activos valiosos para las organizaciones. Comunicadora efectiva y apasionada por el aprendizaje continuo en el campo en constante evolución de la ingeniería de datos.\n",
    "</p>\n",
    "  </div>\n",
    "</div>\n",
    "\n"
   ]
  },
  {
   "cell_type": "markdown",
   "id": "fde6b926-bfe8-442c-95f2-8b6ddaf87bd5",
   "metadata": {},
   "source": [
    "## <span style=\"color:#4361EE\">Diferencias entre Analítica de Datos y Ciencia de Datos</span>"
   ]
  },
  {
   "cell_type": "markdown",
   "id": "1de6a581-2bd0-4328-9855-6003caa9d392",
   "metadata": {},
   "source": [
    "**1. Objetivos y Enfoque:**\n",
    "- **Analítica de Datos:** Se centra en el análisis retrospectivo de datos para comprender patrones, tendencias y relaciones en los datos históricos. El objetivo principal es obtener información y respuestas a preguntas específicas basadas en los datos.\n",
    "- **Ciencia de Datos:** Tiene un enfoque más amplio e integral. Además del análisis retrospectivo, la ciencia de datos incluye la construcción de modelos predictivos y prescriptivos. Busca descubrir patrones ocultos, generar predicciones y tomar decisiones informadas basadas en datos.\n",
    "\n",
    "**2. Naturaleza de las Preguntas:**\n",
    "- **Analítica de Datos:** Suele abordar preguntas específicas y bien definidas que buscan obtener información sobre eventos pasados o presentes. Ejemplos incluyen entender las ventas mensuales, el rendimiento de campañas de marketing, etc.\n",
    "- **Ciencia de Datos:** Aborda preguntas más complejas y abiertas que involucran exploración de datos y formulación de hipótesis. Puede responder a preguntas como \"¿qué factores influyen en el comportamiento del cliente?\" o \"¿cómo podemos optimizar el inventario?\"\n",
    "\n",
    "**3. Herramientas y Técnicas:**\n",
    "- **Analítica de Datos:** Emplea principalmente herramientas de análisis estadístico y visualización de datos. Las técnicas se centran en resumir y describir datos.\n",
    "- **Ciencia de Datos:** Utiliza herramientas más amplias y avanzadas que incluyen aprendizaje automático, minería de datos y análisis de big data. Las técnicas son más variadas y avanzadas, permitiendo la construcción de modelos predictivos y de machine learning.\n",
    "\n",
    "**4. Alcance del Proyecto:**\n",
    "- **Analítica de Datos:** Los proyectos de analítica de datos tienden a ser más específicos y enfocados en resolver problemas o responder preguntas específicas.\n",
    "- **Ciencia de Datos:** Los proyectos de ciencia de datos pueden abarcar desde la exploración de datos hasta la construcción de modelos complejos. Pueden requerir un enfoque más holístico en la recolección, procesamiento y análisis de datos.\n",
    "\n",
    "**5. Decisión y Acción:**\n",
    "- **Analítica de Datos:** La analítica de datos a menudo ayuda a tomar decisiones basadas en datos, pero la acción resultante puede estar más limitada a la comprensión de eventos pasados o presentes.\n",
    "- **Ciencia de Datos:** La ciencia de datos se orienta hacia la toma de decisiones informadas y la implementación de modelos predictivos para influir en eventos futuros. Puede respaldar decisiones estratégicas más impactantes.\n",
    "\n",
    "\n",
    "\n",
    "Se podría afirmar que la fómula básica que fundamenta ambas disciplinas es:\n",
    "$$\n",
    "\\text{Datos} + \\text{Exploración} + \\text{Transformación} + \\text{Análisis} + \\text{Acción} = \\text{Información Accionable}\n",
    "$$\n"
   ]
  },
  {
   "cell_type": "markdown",
   "id": "240af0c5-684f-4261-90b3-2703d72b91e6",
   "metadata": {},
   "source": [
    "## <span style=\"color:#4361EE\">Ejemplo: Análisis de Ventas de una Tienda de Ropa</span>"
   ]
  },
  {
   "cell_type": "markdown",
   "id": "f46a898c-9a9f-48fa-84a1-aaa1f9843327",
   "metadata": {},
   "source": [
    "**Analítica de Datos:**\n",
    "Supongamos que eres el gerente de una tienda de ropa y deseas comprender cómo han fluctuado las ventas durante los últimos 12 meses para planificar las estrategias de inventario. Utilizando la Analítica de Datos, puedes llevar a cabo un análisis que abarque tanto los datos históricos de ventas como los datos actuales. Puedes identificar patrones estacionales y tendencias de ventas, lo que te permitiría tomar decisiones sobre la gestión del inventario y la promoción de productos específicos en momentos clave del año. La Analítica de Datos te proporciona insights valiosos para optimizar las operaciones presentes y futuras.\n",
    "\n",
    "**Ciencia de Datos con Inteligencia Artificial:**\n",
    "Si deseas llevar el análisis a un nivel más avanzado y anticipar las demandas de los clientes, entrarías en el ámbito de la Ciencia de Datos con enfoque en la Inteligencia Artificial (IA). Aquí, podrías construir modelos predictivos más sofisticados que utilicen técnicas de aprendizaje automático y análisis de series temporales. Mediante la incorporación de factores como el clima, eventos locales, tendencias de moda y datos de redes sociales, podrías crear un modelo de predicción de ventas a corto y mediano plazo con un alto grado de precisión. Esta IA habilitada por datos te permitiría tomar decisiones informadas y adaptar tus estrategias a las tendencias emergentes antes de que ocurran, lo que optimizaría significativamente el rendimiento de la tienda."
   ]
  },
  {
   "cell_type": "markdown",
   "id": "c1b92fe3-af76-40ac-8ec7-a1aa50c052b4",
   "metadata": {},
   "source": [
    "## <span style=\"color:#4361EE\">Referencias</span>"
   ]
  },
  {
   "cell_type": "markdown",
   "id": "032fc268-cc1a-451e-bceb-bca43fd63f49",
   "metadata": {},
   "source": [
    "[ChatGPT de OpenAI](https://platform.openai.com/demo)\n"
   ]
  },
  {
   "cell_type": "code",
   "execution_count": null,
   "id": "0da0b224-f0d4-4409-915c-a9c6221cb7a0",
   "metadata": {},
   "outputs": [],
   "source": []
  }
 ],
 "metadata": {
  "kernelspec": {
   "display_name": "Python 3 (ipykernel)",
   "language": "python",
   "name": "python3"
  },
  "language_info": {
   "codemirror_mode": {
    "name": "ipython",
    "version": 3
   },
   "file_extension": ".py",
   "mimetype": "text/x-python",
   "name": "python",
   "nbconvert_exporter": "python",
   "pygments_lexer": "ipython3",
   "version": "3.9.13"
  }
 },
 "nbformat": 4,
 "nbformat_minor": 5
}
